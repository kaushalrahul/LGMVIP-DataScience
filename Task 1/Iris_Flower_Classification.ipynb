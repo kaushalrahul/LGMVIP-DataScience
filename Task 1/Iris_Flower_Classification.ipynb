{
  "nbformat": 4,
  "nbformat_minor": 0,
  "metadata": {
    "colab": {
      "name": "Iris_Flower_Classification",
      "provenance": [],
      "collapsed_sections": []
    },
    "kernelspec": {
      "display_name": "Python 3",
      "name": "python3"
    },
    "language_info": {
      "name": "python"
    }
  },
  "cells": [
    {
      "cell_type": "markdown",
      "metadata": {
        "id": "dQvI8_qfkxpM"
      },
      "source": [
        "**LGMVIP- DataScience**"
      ]
    },
    {
      "cell_type": "markdown",
      "metadata": {
        "id": "IZgQrClMk7_p"
      },
      "source": [
        "**Task 1**"
      ]
    },
    {
      "cell_type": "markdown",
      "metadata": {
        "id": "i3lTylu1lBRN"
      },
      "source": [
        "**Made by - Rahul Kaushal**"
      ]
    },
    {
      "cell_type": "markdown",
      "metadata": {
        "id": "rnYO3OR-lKVs"
      },
      "source": [
        "**Iris Flower Classification ML Project**"
      ]
    },
    {
      "cell_type": "markdown",
      "metadata": {
        "id": "4r51laL4lKKN"
      },
      "source": [
        ""
      ]
    },
    {
      "cell_type": "markdown",
      "metadata": {
        "id": "Sng_OjFUlUZ5"
      },
      "source": [
        "**1. Data Visualization**"
      ]
    },
    {
      "cell_type": "code",
      "metadata": {
        "id": "mXDorwL7j3H6"
      },
      "source": [
        "# Importing the libraries\n",
        "\n",
        "import pandas as pd #handling the data\n",
        "import numpy as np #to work with arrays\n",
        "from sklearn.metrics import accuracy_score\n",
        "from sklearn.model_selection import train_test_split\n",
        "from sklearn.preprocessing import StandardScaler\n",
        "from sklearn.neighbors import KNeighborsClassifier\n",
        "from sklearn.preprocessing import LabelEncoder\n",
        "import matplotlib.pyplot as plt\n",
        "import seaborn as sns"
      ],
      "execution_count": 182,
      "outputs": []
    },
    {
      "cell_type": "code",
      "metadata": {
        "colab": {
          "base_uri": "https://localhost:8080/"
        },
        "id": "W5GiWfojlshZ",
        "outputId": "398f2f8f-a498-44fb-ae47-8a7246ade5e5"
      },
      "source": [
        "# Reading the csv file\n",
        "data = pd.read_csv('Iris.csv.xls')\n",
        "data.shape"
      ],
      "execution_count": 183,
      "outputs": [
        {
          "output_type": "execute_result",
          "data": {
            "text/plain": [
              "(150, 6)"
            ]
          },
          "metadata": {},
          "execution_count": 183
        }
      ]
    },
    {
      "cell_type": "code",
      "metadata": {
        "colab": {
          "base_uri": "https://localhost:8080/"
        },
        "id": "sysUcvzqmf50",
        "outputId": "7e44e966-09cb-46b4-b032-0c4a93004179"
      },
      "source": [
        "data.info()"
      ],
      "execution_count": 184,
      "outputs": [
        {
          "output_type": "stream",
          "name": "stdout",
          "text": [
            "<class 'pandas.core.frame.DataFrame'>\n",
            "RangeIndex: 150 entries, 0 to 149\n",
            "Data columns (total 6 columns):\n",
            " #   Column         Non-Null Count  Dtype  \n",
            "---  ------         --------------  -----  \n",
            " 0   Id             150 non-null    int64  \n",
            " 1   SepalLengthCm  150 non-null    float64\n",
            " 2   SepalWidthCm   150 non-null    float64\n",
            " 3   PetalLengthCm  150 non-null    float64\n",
            " 4   PetalWidthCm   150 non-null    float64\n",
            " 5   Species        150 non-null    object \n",
            "dtypes: float64(4), int64(1), object(1)\n",
            "memory usage: 7.2+ KB\n"
          ]
        }
      ]
    },
    {
      "cell_type": "code",
      "metadata": {
        "colab": {
          "base_uri": "https://localhost:8080/",
          "height": 206
        },
        "id": "Iqn5wCQYvJ86",
        "outputId": "84cff47d-2840-4e96-b88d-aa0664ae6265"
      },
      "source": [
        "data.head()"
      ],
      "execution_count": 185,
      "outputs": [
        {
          "output_type": "execute_result",
          "data": {
            "text/html": [
              "<div>\n",
              "<style scoped>\n",
              "    .dataframe tbody tr th:only-of-type {\n",
              "        vertical-align: middle;\n",
              "    }\n",
              "\n",
              "    .dataframe tbody tr th {\n",
              "        vertical-align: top;\n",
              "    }\n",
              "\n",
              "    .dataframe thead th {\n",
              "        text-align: right;\n",
              "    }\n",
              "</style>\n",
              "<table border=\"1\" class=\"dataframe\">\n",
              "  <thead>\n",
              "    <tr style=\"text-align: right;\">\n",
              "      <th></th>\n",
              "      <th>Id</th>\n",
              "      <th>SepalLengthCm</th>\n",
              "      <th>SepalWidthCm</th>\n",
              "      <th>PetalLengthCm</th>\n",
              "      <th>PetalWidthCm</th>\n",
              "      <th>Species</th>\n",
              "    </tr>\n",
              "  </thead>\n",
              "  <tbody>\n",
              "    <tr>\n",
              "      <th>0</th>\n",
              "      <td>1</td>\n",
              "      <td>5.1</td>\n",
              "      <td>3.5</td>\n",
              "      <td>1.4</td>\n",
              "      <td>0.2</td>\n",
              "      <td>Iris-setosa</td>\n",
              "    </tr>\n",
              "    <tr>\n",
              "      <th>1</th>\n",
              "      <td>2</td>\n",
              "      <td>4.9</td>\n",
              "      <td>3.0</td>\n",
              "      <td>1.4</td>\n",
              "      <td>0.2</td>\n",
              "      <td>Iris-setosa</td>\n",
              "    </tr>\n",
              "    <tr>\n",
              "      <th>2</th>\n",
              "      <td>3</td>\n",
              "      <td>4.7</td>\n",
              "      <td>3.2</td>\n",
              "      <td>1.3</td>\n",
              "      <td>0.2</td>\n",
              "      <td>Iris-setosa</td>\n",
              "    </tr>\n",
              "    <tr>\n",
              "      <th>3</th>\n",
              "      <td>4</td>\n",
              "      <td>4.6</td>\n",
              "      <td>3.1</td>\n",
              "      <td>1.5</td>\n",
              "      <td>0.2</td>\n",
              "      <td>Iris-setosa</td>\n",
              "    </tr>\n",
              "    <tr>\n",
              "      <th>4</th>\n",
              "      <td>5</td>\n",
              "      <td>5.0</td>\n",
              "      <td>3.6</td>\n",
              "      <td>1.4</td>\n",
              "      <td>0.2</td>\n",
              "      <td>Iris-setosa</td>\n",
              "    </tr>\n",
              "  </tbody>\n",
              "</table>\n",
              "</div>"
            ],
            "text/plain": [
              "   Id  SepalLengthCm  SepalWidthCm  PetalLengthCm  PetalWidthCm      Species\n",
              "0   1            5.1           3.5            1.4           0.2  Iris-setosa\n",
              "1   2            4.9           3.0            1.4           0.2  Iris-setosa\n",
              "2   3            4.7           3.2            1.3           0.2  Iris-setosa\n",
              "3   4            4.6           3.1            1.5           0.2  Iris-setosa\n",
              "4   5            5.0           3.6            1.4           0.2  Iris-setosa"
            ]
          },
          "metadata": {},
          "execution_count": 185
        }
      ]
    },
    {
      "cell_type": "code",
      "metadata": {
        "colab": {
          "base_uri": "https://localhost:8080/",
          "height": 300
        },
        "id": "Y2eq838OvLVJ",
        "outputId": "8086d661-1144-4be6-a2da-c99b213cd350"
      },
      "source": [
        "data.describe()"
      ],
      "execution_count": 186,
      "outputs": [
        {
          "output_type": "execute_result",
          "data": {
            "text/html": [
              "<div>\n",
              "<style scoped>\n",
              "    .dataframe tbody tr th:only-of-type {\n",
              "        vertical-align: middle;\n",
              "    }\n",
              "\n",
              "    .dataframe tbody tr th {\n",
              "        vertical-align: top;\n",
              "    }\n",
              "\n",
              "    .dataframe thead th {\n",
              "        text-align: right;\n",
              "    }\n",
              "</style>\n",
              "<table border=\"1\" class=\"dataframe\">\n",
              "  <thead>\n",
              "    <tr style=\"text-align: right;\">\n",
              "      <th></th>\n",
              "      <th>Id</th>\n",
              "      <th>SepalLengthCm</th>\n",
              "      <th>SepalWidthCm</th>\n",
              "      <th>PetalLengthCm</th>\n",
              "      <th>PetalWidthCm</th>\n",
              "    </tr>\n",
              "  </thead>\n",
              "  <tbody>\n",
              "    <tr>\n",
              "      <th>count</th>\n",
              "      <td>150.000000</td>\n",
              "      <td>150.000000</td>\n",
              "      <td>150.000000</td>\n",
              "      <td>150.000000</td>\n",
              "      <td>150.000000</td>\n",
              "    </tr>\n",
              "    <tr>\n",
              "      <th>mean</th>\n",
              "      <td>75.500000</td>\n",
              "      <td>5.843333</td>\n",
              "      <td>3.054000</td>\n",
              "      <td>3.758667</td>\n",
              "      <td>1.198667</td>\n",
              "    </tr>\n",
              "    <tr>\n",
              "      <th>std</th>\n",
              "      <td>43.445368</td>\n",
              "      <td>0.828066</td>\n",
              "      <td>0.433594</td>\n",
              "      <td>1.764420</td>\n",
              "      <td>0.763161</td>\n",
              "    </tr>\n",
              "    <tr>\n",
              "      <th>min</th>\n",
              "      <td>1.000000</td>\n",
              "      <td>4.300000</td>\n",
              "      <td>2.000000</td>\n",
              "      <td>1.000000</td>\n",
              "      <td>0.100000</td>\n",
              "    </tr>\n",
              "    <tr>\n",
              "      <th>25%</th>\n",
              "      <td>38.250000</td>\n",
              "      <td>5.100000</td>\n",
              "      <td>2.800000</td>\n",
              "      <td>1.600000</td>\n",
              "      <td>0.300000</td>\n",
              "    </tr>\n",
              "    <tr>\n",
              "      <th>50%</th>\n",
              "      <td>75.500000</td>\n",
              "      <td>5.800000</td>\n",
              "      <td>3.000000</td>\n",
              "      <td>4.350000</td>\n",
              "      <td>1.300000</td>\n",
              "    </tr>\n",
              "    <tr>\n",
              "      <th>75%</th>\n",
              "      <td>112.750000</td>\n",
              "      <td>6.400000</td>\n",
              "      <td>3.300000</td>\n",
              "      <td>5.100000</td>\n",
              "      <td>1.800000</td>\n",
              "    </tr>\n",
              "    <tr>\n",
              "      <th>max</th>\n",
              "      <td>150.000000</td>\n",
              "      <td>7.900000</td>\n",
              "      <td>4.400000</td>\n",
              "      <td>6.900000</td>\n",
              "      <td>2.500000</td>\n",
              "    </tr>\n",
              "  </tbody>\n",
              "</table>\n",
              "</div>"
            ],
            "text/plain": [
              "               Id  SepalLengthCm  SepalWidthCm  PetalLengthCm  PetalWidthCm\n",
              "count  150.000000     150.000000    150.000000     150.000000    150.000000\n",
              "mean    75.500000       5.843333      3.054000       3.758667      1.198667\n",
              "std     43.445368       0.828066      0.433594       1.764420      0.763161\n",
              "min      1.000000       4.300000      2.000000       1.000000      0.100000\n",
              "25%     38.250000       5.100000      2.800000       1.600000      0.300000\n",
              "50%     75.500000       5.800000      3.000000       4.350000      1.300000\n",
              "75%    112.750000       6.400000      3.300000       5.100000      1.800000\n",
              "max    150.000000       7.900000      4.400000       6.900000      2.500000"
            ]
          },
          "metadata": {},
          "execution_count": 186
        }
      ]
    },
    {
      "cell_type": "code",
      "metadata": {
        "colab": {
          "base_uri": "https://localhost:8080/"
        },
        "id": "3yuB7EaOSg6w",
        "outputId": "4b8f36be-7828-42a3-d231-22889a660f5d"
      },
      "source": [
        "data.isnull().any().any()"
      ],
      "execution_count": 187,
      "outputs": [
        {
          "output_type": "execute_result",
          "data": {
            "text/plain": [
              "False"
            ]
          },
          "metadata": {},
          "execution_count": 187
        }
      ]
    },
    {
      "cell_type": "code",
      "metadata": {
        "colab": {
          "base_uri": "https://localhost:8080/"
        },
        "id": "f9lYEFCwwf4N",
        "outputId": "65ea20d2-4344-4157-acc6-2f5f1815bc18"
      },
      "source": [
        "data['Species'].unique()"
      ],
      "execution_count": 188,
      "outputs": [
        {
          "output_type": "execute_result",
          "data": {
            "text/plain": [
              "array(['Iris-setosa', 'Iris-versicolor', 'Iris-virginica'], dtype=object)"
            ]
          },
          "metadata": {},
          "execution_count": 188
        }
      ]
    },
    {
      "cell_type": "markdown",
      "metadata": {
        "id": "5aspq8h8ld7v"
      },
      "source": [
        "**Scatter Plot**"
      ]
    },
    {
      "cell_type": "markdown",
      "metadata": {
        "id": "kcDFfd9slkGb"
      },
      "source": [
        "**Scatter plot for Sepal Length vs Sepal Width**"
      ]
    },
    {
      "cell_type": "code",
      "metadata": {
        "colab": {
          "base_uri": "https://localhost:8080/",
          "height": 295
        },
        "id": "O8OxUGnu8wuL",
        "outputId": "df4cf2ee-89aa-4f5c-832b-4d092c085e04"
      },
      "source": [
        "sns.scatterplot(x='SepalLengthCm', y=\"SepalWidthCm\",data=data,hue='Species')\n",
        "plt.title('Sepal Length vs Sepal Width')\n",
        "plt.show()"
      ],
      "execution_count": 189,
      "outputs": [
        {
          "output_type": "display_data",
          "data": {
            "image/png": "[encoded data removed]",
            "text/plain": [
              "<Figure size 432x288 with 1 Axes>"
            ]
          },
          "metadata": {
            "needs_background": "light"
          }
        }
      ]
    },
    {
      "cell_type": "code",
      "metadata": {
        "colab": {
          "base_uri": "https://localhost:8080/"
        },
        "id": "V92nYh1XOwrn",
        "outputId": "59be2a90-e259-47d9-f452-7b92a9353a66"
      },
      "source": [
        "data['SepalLengthCm'].corr(data['SepalWidthCm'])"
      ],
      "execution_count": 190,
      "outputs": [
        {
          "output_type": "execute_result",
          "data": {
            "text/plain": [
              "-0.10936924995064937"
            ]
          },
          "metadata": {},
          "execution_count": 190
        }
      ]
    },
    {
      "cell_type": "markdown",
      "metadata": {
        "id": "cBXPtGQrl1gm"
      },
      "source": [
        "**Scatter plot for Petal Length vs Petal Width**"
      ]
    },
    {
      "cell_type": "code",
      "metadata": {
        "colab": {
          "base_uri": "https://localhost:8080/",
          "height": 295
        },
        "id": "Vks-F1E09Oel",
        "outputId": "812da119-ce0b-4dc1-af31-db676c663242"
      },
      "source": [
        "sns.scatterplot(x='PetalLengthCm', y=\"PetalWidthCm\",data=data,hue='Species')\n",
        "plt.title('Petal Length vs Petal Width')\n",
        "plt.show()"
      ],
      "execution_count": 191,
      "outputs": [
        {
          "output_type": "display_data",
          "data": {
            "image/png": "[encoded data removed]",
            "text/plain": [
              "<Figure size 432x288 with 1 Axes>"
            ]
          },
          "metadata": {
            "needs_background": "light"
          }
        }
      ]
    },
    {
      "cell_type": "code",
      "metadata": {
        "colab": {
          "base_uri": "https://localhost:8080/"
        },
        "id": "AKzZ7_xZO2zM",
        "outputId": "bcdd9f03-fe3e-4f51-b464-e6ba82470df2"
      },
      "source": [
        "data['PetalLengthCm'].corr(data['PetalWidthCm'])"
      ],
      "execution_count": 192,
      "outputs": [
        {
          "output_type": "execute_result",
          "data": {
            "text/plain": [
              "0.9627570970509663"
            ]
          },
          "metadata": {},
          "execution_count": 192
        }
      ]
    },
    {
      "cell_type": "markdown",
      "metadata": {
        "id": "SzFu_JDvl9Sc"
      },
      "source": [
        "**Scatter plot for Petal Length vs Sepal Length**"
      ]
    },
    {
      "cell_type": "code",
      "metadata": {
        "colab": {
          "base_uri": "https://localhost:8080/",
          "height": 295
        },
        "id": "yNbUdYYCOaso",
        "outputId": "7a5cd5ee-a2e5-4de2-a2a1-934da7e85731"
      },
      "source": [
        "sns.scatterplot(x='PetalLengthCm', y=\"SepalLengthCm\",data=data,hue='Species')\n",
        "plt.title('Petal Length vs Sepal Length')\n",
        "plt.show()"
      ],
      "execution_count": 193,
      "outputs": [
        {
          "output_type": "display_data",
          "data": {
            "image/png": "[encoded data removed]",
            "text/plain": [
              "<Figure size 432x288 with 1 Axes>"
            ]
          },
          "metadata": {
            "needs_background": "light"
          }
        }
      ]
    },
    {
      "cell_type": "code",
      "metadata": {
        "colab": {
          "base_uri": "https://localhost:8080/"
        },
        "id": "dNr9bsDzO60c",
        "outputId": "e23d97ce-2227-4b50-81e5-139fb53fad41"
      },
      "source": [
        "data['PetalLengthCm'].corr(data['SepalLengthCm'])"
      ],
      "execution_count": 194,
      "outputs": [
        {
          "output_type": "execute_result",
          "data": {
            "text/plain": [
              "0.8717541573048718"
            ]
          },
          "metadata": {},
          "execution_count": 194
        }
      ]
    },
    {
      "cell_type": "markdown",
      "metadata": {
        "id": "-QVx0J8omCZ1"
      },
      "source": [
        "**Scatter plot for Petal Width vs Sepal Width**"
      ]
    },
    {
      "cell_type": "code",
      "metadata": {
        "colab": {
          "base_uri": "https://localhost:8080/",
          "height": 295
        },
        "id": "J3YucatZPAr8",
        "outputId": "d9fdd131-0791-45b5-cd0f-452d23398cb1"
      },
      "source": [
        "sns.scatterplot(x = 'PetalWidthCm', y = 'SepalWidthCm', data = data ,hue ='Species')\n",
        "plt.title('Petal Width vs Sepal Width')\n",
        "plt.show()\n"
      ],
      "execution_count": 195,
      "outputs": [
        {
          "output_type": "display_data",
          "data": {
            "image/png": "[encoded data removed]",
            "text/plain": [
              "<Figure size 432x288 with 1 Axes>"
            ]
          },
          "metadata": {
            "needs_background": "light"
          }
        }
      ]
    },
    {
      "cell_type": "code",
      "metadata": {
        "colab": {
          "base_uri": "https://localhost:8080/"
        },
        "id": "iKCNoTUwPGMF",
        "outputId": "0d24fce8-b666-407b-b592-5c36f7046505"
      },
      "source": [
        "data['PetalWidthCm'].corr(data['SepalWidthCm'])"
      ],
      "execution_count": 196,
      "outputs": [
        {
          "output_type": "execute_result",
          "data": {
            "text/plain": [
              "-0.35654408961380535"
            ]
          },
          "metadata": {},
          "execution_count": 196
        }
      ]
    },
    {
      "cell_type": "markdown",
      "metadata": {
        "id": "pAna1EDjmc-R"
      },
      "source": [
        "**Bar Plot**"
      ]
    },
    {
      "cell_type": "markdown",
      "metadata": {
        "id": "Dbs3R72lmhaI"
      },
      "source": [
        "**Bar plot for Species vs Sepal Length**"
      ]
    },
    {
      "cell_type": "code",
      "metadata": {
        "colab": {
          "base_uri": "https://localhost:8080/",
          "height": 282
        },
        "id": "Bfba4qYkwshn",
        "outputId": "a2e799d5-935d-4025-cb31-68402a4383ca"
      },
      "source": [
        "plt.bar(data['Species'], data['SepalLengthCm'])"
      ],
      "execution_count": 197,
      "outputs": [
        {
          "output_type": "execute_result",
          "data": {
            "text/plain": [
              "<BarContainer object of 150 artists>"
            ]
          },
          "metadata": {},
          "execution_count": 197
        },
        {
          "output_type": "display_data",
          "data": {
            "image/png": "[encoded data removed]",
            "text/plain": [
              "<Figure size 432x288 with 1 Axes>"
            ]
          },
          "metadata": {
            "needs_background": "light"
          }
        }
      ]
    },
    {
      "cell_type": "markdown",
      "metadata": {
        "id": "3VLdGzFMmtHs"
      },
      "source": [
        "**Bar plot for Species vs Sepal Width**"
      ]
    },
    {
      "cell_type": "code",
      "metadata": {
        "colab": {
          "base_uri": "https://localhost:8080/",
          "height": 282
        },
        "id": "733bZAphz3UZ",
        "outputId": "4e419a82-ea4a-491f-d370-dac0368c7099"
      },
      "source": [
        "plt.bar(data['Species'], data['SepalWidthCm'])"
      ],
      "execution_count": 198,
      "outputs": [
        {
          "output_type": "execute_result",
          "data": {
            "text/plain": [
              "<BarContainer object of 150 artists>"
            ]
          },
          "metadata": {},
          "execution_count": 198
        },
        {
          "output_type": "display_data",
          "data": {
            "image/png": "[encoded data removed]",
            "text/plain": [
              "<Figure size 432x288 with 1 Axes>"
            ]
          },
          "metadata": {
            "needs_background": "light"
          }
        }
      ]
    },
    {
      "cell_type": "markdown",
      "metadata": {
        "id": "qg3Q6tCgmwIl"
      },
      "source": [
        "**Bar plot for Species vs Petal Length**"
      ]
    },
    {
      "cell_type": "code",
      "metadata": {
        "colab": {
          "base_uri": "https://localhost:8080/",
          "height": 282
        },
        "id": "yxFRNy3C0F7x",
        "outputId": "8b36ca46-e93c-4cc5-e399-bfc30760b151"
      },
      "source": [
        "plt.bar(data['Species'], data['PetalLengthCm'])"
      ],
      "execution_count": 199,
      "outputs": [
        {
          "output_type": "execute_result",
          "data": {
            "text/plain": [
              "<BarContainer object of 150 artists>"
            ]
          },
          "metadata": {},
          "execution_count": 199
        },
        {
          "output_type": "display_data",
          "data": {
            "image/png": "[encoded data removed]",
            "text/plain": [
              "<Figure size 432x288 with 1 Axes>"
            ]
          },
          "metadata": {
            "needs_background": "light"
          }
        }
      ]
    },
    {
      "cell_type": "markdown",
      "metadata": {
        "id": "RatOgQq-myiB"
      },
      "source": [
        "**Bar plot for Species vs Petal width**"
      ]
    },
    {
      "cell_type": "code",
      "metadata": {
        "colab": {
          "base_uri": "https://localhost:8080/",
          "height": 282
        },
        "id": "-U-4mtxn0Rk8",
        "outputId": "9e6e5487-477d-46c9-cf3c-ad0677f0d6d9"
      },
      "source": [
        "plt.bar(data['Species'], data['PetalWidthCm'])"
      ],
      "execution_count": 200,
      "outputs": [
        {
          "output_type": "execute_result",
          "data": {
            "text/plain": [
              "<BarContainer object of 150 artists>"
            ]
          },
          "metadata": {},
          "execution_count": 200
        },
        {
          "output_type": "display_data",
          "data": {
            "image/png": "[encoded data removed]",
            "text/plain": [
              "<Figure size 432x288 with 1 Axes>"
            ]
          },
          "metadata": {
            "needs_background": "light"
          }
        }
      ]
    },
    {
      "cell_type": "markdown",
      "metadata": {
        "id": "1b1l_HU7m3uf"
      },
      "source": [
        "**Box Plot**"
      ]
    },
    {
      "cell_type": "markdown",
      "metadata": {
        "id": "y3DOn4U9nAUS"
      },
      "source": [
        "**Box plot for Species vs Sepal Length**"
      ]
    },
    {
      "cell_type": "code",
      "metadata": {
        "colab": {
          "base_uri": "https://localhost:8080/",
          "height": 296
        },
        "id": "rsqYe-ix0XtL",
        "outputId": "3a446bfc-2956-428d-bd96-93ac3b558dcf"
      },
      "source": [
        "sns.boxplot(data=data, x='Species', y='SepalLengthCm')"
      ],
      "execution_count": 201,
      "outputs": [
        {
          "output_type": "execute_result",
          "data": {
            "text/plain": [
              "<matplotlib.axes._subplots.AxesSubplot at 0x7f906075d690>"
            ]
          },
          "metadata": {},
          "execution_count": 201
        },
        {
          "output_type": "display_data",
          "data": {
            "image/png": "[encoded data removed]",
            "text/plain": [
              "<Figure size 432x288 with 1 Axes>"
            ]
          },
          "metadata": {
            "needs_background": "light"
          }
        }
      ]
    },
    {
      "cell_type": "markdown",
      "metadata": {
        "id": "4qy0CNUWnLDX"
      },
      "source": [
        "**Box plot for Species vs Sepal Width**"
      ]
    },
    {
      "cell_type": "code",
      "metadata": {
        "colab": {
          "base_uri": "https://localhost:8080/",
          "height": 299
        },
        "id": "eeNLF1Ou1C27",
        "outputId": "f5b7f01e-2430-421c-fab1-63d92a63a23d"
      },
      "source": [
        "sns.boxplot(data=data, x='Species', y='SepalWidthCm')"
      ],
      "execution_count": 202,
      "outputs": [
        {
          "output_type": "execute_result",
          "data": {
            "text/plain": [
              "<matplotlib.axes._subplots.AxesSubplot at 0x7f906090f950>"
            ]
          },
          "metadata": {},
          "execution_count": 202
        },
        {
          "output_type": "display_data",
          "data": {
            "image/png": "[encoded data removed]",
            "text/plain": [
              "<Figure size 432x288 with 1 Axes>"
            ]
          },
          "metadata": {
            "needs_background": "light"
          }
        }
      ]
    },
    {
      "cell_type": "markdown",
      "metadata": {
        "id": "6KOPx9BCnNwK"
      },
      "source": [
        "**Box plot for Species vs Petal Length**"
      ]
    },
    {
      "cell_type": "code",
      "metadata": {
        "colab": {
          "base_uri": "https://localhost:8080/",
          "height": 296
        },
        "id": "qhGOv7I-1L1Q",
        "outputId": "516cb739-adad-4659-b3fc-6b86625cfd08"
      },
      "source": [
        "sns.boxplot(data=data, x='Species', y='PetalLengthCm')"
      ],
      "execution_count": 203,
      "outputs": [
        {
          "output_type": "execute_result",
          "data": {
            "text/plain": [
              "<matplotlib.axes._subplots.AxesSubplot at 0x7f906071aed0>"
            ]
          },
          "metadata": {},
          "execution_count": 203
        },
        {
          "output_type": "display_data",
          "data": {
            "image/png": "[encoded data removed]",
            "text/plain": [
              "<Figure size 432x288 with 1 Axes>"
            ]
          },
          "metadata": {
            "needs_background": "light"
          }
        }
      ]
    },
    {
      "cell_type": "markdown",
      "metadata": {
        "id": "zXKBH1hXnQvI"
      },
      "source": [
        "**Box plot for Species vs Petal Width**"
      ]
    },
    {
      "cell_type": "code",
      "metadata": {
        "colab": {
          "base_uri": "https://localhost:8080/",
          "height": 296
        },
        "id": "QXKv4qvY1P8e",
        "outputId": "608bb7ca-49ca-4410-f811-a022e4e89f70"
      },
      "source": [
        "sns.boxplot(data=data, x='Species', y='PetalWidthCm')"
      ],
      "execution_count": 204,
      "outputs": [
        {
          "output_type": "execute_result",
          "data": {
            "text/plain": [
              "<matplotlib.axes._subplots.AxesSubplot at 0x7f906090fe10>"
            ]
          },
          "metadata": {},
          "execution_count": 204
        },
        {
          "output_type": "display_data",
          "data": {
            "image/png": "[encoded data removed]",
            "text/plain": [
              "<Figure size 432x288 with 1 Axes>"
            ]
          },
          "metadata": {
            "needs_background": "light"
          }
        }
      ]
    },
    {
      "cell_type": "code",
      "metadata": {
        "colab": {
          "base_uri": "https://localhost:8080/",
          "height": 423
        },
        "id": "9pEaTOKD1To2",
        "outputId": "2018f4a2-ae87-48e6-8f47-cd57822380e1"
      },
      "source": [
        "# Deleting Id column\n",
        "newdata = data.drop(['Id'], axis=1)\n",
        "newdata"
      ],
      "execution_count": 205,
      "outputs": [
        {
          "output_type": "execute_result",
          "data": {
            "text/html": [
              "<div>\n",
              "<style scoped>\n",
              "    .dataframe tbody tr th:only-of-type {\n",
              "        vertical-align: middle;\n",
              "    }\n",
              "\n",
              "    .dataframe tbody tr th {\n",
              "        vertical-align: top;\n",
              "    }\n",
              "\n",
              "    .dataframe thead th {\n",
              "        text-align: right;\n",
              "    }\n",
              "</style>\n",
              "<table border=\"1\" class=\"dataframe\">\n",
              "  <thead>\n",
              "    <tr style=\"text-align: right;\">\n",
              "      <th></th>\n",
              "      <th>SepalLengthCm</th>\n",
              "      <th>SepalWidthCm</th>\n",
              "      <th>PetalLengthCm</th>\n",
              "      <th>PetalWidthCm</th>\n",
              "      <th>Species</th>\n",
              "    </tr>\n",
              "  </thead>\n",
              "  <tbody>\n",
              "    <tr>\n",
              "      <th>0</th>\n",
              "      <td>5.1</td>\n",
              "      <td>3.5</td>\n",
              "      <td>1.4</td>\n",
              "      <td>0.2</td>\n",
              "      <td>Iris-setosa</td>\n",
              "    </tr>\n",
              "    <tr>\n",
              "      <th>1</th>\n",
              "      <td>4.9</td>\n",
              "      <td>3.0</td>\n",
              "      <td>1.4</td>\n",
              "      <td>0.2</td>\n",
              "      <td>Iris-setosa</td>\n",
              "    </tr>\n",
              "    <tr>\n",
              "      <th>2</th>\n",
              "      <td>4.7</td>\n",
              "      <td>3.2</td>\n",
              "      <td>1.3</td>\n",
              "      <td>0.2</td>\n",
              "      <td>Iris-setosa</td>\n",
              "    </tr>\n",
              "    <tr>\n",
              "      <th>3</th>\n",
              "      <td>4.6</td>\n",
              "      <td>3.1</td>\n",
              "      <td>1.5</td>\n",
              "      <td>0.2</td>\n",
              "      <td>Iris-setosa</td>\n",
              "    </tr>\n",
              "    <tr>\n",
              "      <th>4</th>\n",
              "      <td>5.0</td>\n",
              "      <td>3.6</td>\n",
              "      <td>1.4</td>\n",
              "      <td>0.2</td>\n",
              "      <td>Iris-setosa</td>\n",
              "    </tr>\n",
              "    <tr>\n",
              "      <th>...</th>\n",
              "      <td>...</td>\n",
              "      <td>...</td>\n",
              "      <td>...</td>\n",
              "      <td>...</td>\n",
              "      <td>...</td>\n",
              "    </tr>\n",
              "    <tr>\n",
              "      <th>145</th>\n",
              "      <td>6.7</td>\n",
              "      <td>3.0</td>\n",
              "      <td>5.2</td>\n",
              "      <td>2.3</td>\n",
              "      <td>Iris-virginica</td>\n",
              "    </tr>\n",
              "    <tr>\n",
              "      <th>146</th>\n",
              "      <td>6.3</td>\n",
              "      <td>2.5</td>\n",
              "      <td>5.0</td>\n",
              "      <td>1.9</td>\n",
              "      <td>Iris-virginica</td>\n",
              "    </tr>\n",
              "    <tr>\n",
              "      <th>147</th>\n",
              "      <td>6.5</td>\n",
              "      <td>3.0</td>\n",
              "      <td>5.2</td>\n",
              "      <td>2.0</td>\n",
              "      <td>Iris-virginica</td>\n",
              "    </tr>\n",
              "    <tr>\n",
              "      <th>148</th>\n",
              "      <td>6.2</td>\n",
              "      <td>3.4</td>\n",
              "      <td>5.4</td>\n",
              "      <td>2.3</td>\n",
              "      <td>Iris-virginica</td>\n",
              "    </tr>\n",
              "    <tr>\n",
              "      <th>149</th>\n",
              "      <td>5.9</td>\n",
              "      <td>3.0</td>\n",
              "      <td>5.1</td>\n",
              "      <td>1.8</td>\n",
              "      <td>Iris-virginica</td>\n",
              "    </tr>\n",
              "  </tbody>\n",
              "</table>\n",
              "<p>150 rows × 5 columns</p>\n",
              "</div>"
            ],
            "text/plain": [
              "     SepalLengthCm  SepalWidthCm  PetalLengthCm  PetalWidthCm         Species\n",
              "0              5.1           3.5            1.4           0.2     Iris-setosa\n",
              "1              4.9           3.0            1.4           0.2     Iris-setosa\n",
              "2              4.7           3.2            1.3           0.2     Iris-setosa\n",
              "3              4.6           3.1            1.5           0.2     Iris-setosa\n",
              "4              5.0           3.6            1.4           0.2     Iris-setosa\n",
              "..             ...           ...            ...           ...             ...\n",
              "145            6.7           3.0            5.2           2.3  Iris-virginica\n",
              "146            6.3           2.5            5.0           1.9  Iris-virginica\n",
              "147            6.5           3.0            5.2           2.0  Iris-virginica\n",
              "148            6.2           3.4            5.4           2.3  Iris-virginica\n",
              "149            5.9           3.0            5.1           1.8  Iris-virginica\n",
              "\n",
              "[150 rows x 5 columns]"
            ]
          },
          "metadata": {},
          "execution_count": 205
        }
      ]
    },
    {
      "cell_type": "markdown",
      "metadata": {
        "id": "DX8G7-8UnXkP"
      },
      "source": [
        "**Pairplot**"
      ]
    },
    {
      "cell_type": "code",
      "metadata": {
        "colab": {
          "base_uri": "https://localhost:8080/",
          "height": 743
        },
        "id": "NNA-x-V_1uAe",
        "outputId": "8302f8a2-b349-4bcf-cbc1-bc6e5a61bc56"
      },
      "source": [
        "sns.pairplot(newdata, hue='Species', diag_kind='kde')"
      ],
      "execution_count": 206,
      "outputs": [
        {
          "output_type": "execute_result",
          "data": {
            "text/plain": [
              "<seaborn.axisgrid.PairGrid at 0x7f9061055a90>"
            ]
          },
          "metadata": {},
          "execution_count": 206
        },
        {
          "output_type": "display_data",
          "data": {
            "image/png": "[encoded data removed]",
            "text/plain": [
              "<Figure size 823.25x720 with 20 Axes>"
            ]
          },
          "metadata": {
            "needs_background": "light"
          }
        }
      ]
    },
    {
      "cell_type": "code",
      "metadata": {
        "colab": {
          "base_uri": "https://localhost:8080/",
          "height": 174
        },
        "id": "HI80f2vG3w-4",
        "outputId": "79efd299-4d76-4452-a67d-34ce38180cd8"
      },
      "source": [
        "# Corelation of columns in newdata\n",
        "\n",
        "newdata.corr()"
      ],
      "execution_count": 207,
      "outputs": [
        {
          "output_type": "execute_result",
          "data": {
            "text/html": [
              "<div>\n",
              "<style scoped>\n",
              "    .dataframe tbody tr th:only-of-type {\n",
              "        vertical-align: middle;\n",
              "    }\n",
              "\n",
              "    .dataframe tbody tr th {\n",
              "        vertical-align: top;\n",
              "    }\n",
              "\n",
              "    .dataframe thead th {\n",
              "        text-align: right;\n",
              "    }\n",
              "</style>\n",
              "<table border=\"1\" class=\"dataframe\">\n",
              "  <thead>\n",
              "    <tr style=\"text-align: right;\">\n",
              "      <th></th>\n",
              "      <th>SepalLengthCm</th>\n",
              "      <th>SepalWidthCm</th>\n",
              "      <th>PetalLengthCm</th>\n",
              "      <th>PetalWidthCm</th>\n",
              "    </tr>\n",
              "  </thead>\n",
              "  <tbody>\n",
              "    <tr>\n",
              "      <th>SepalLengthCm</th>\n",
              "      <td>1.000000</td>\n",
              "      <td>-0.109369</td>\n",
              "      <td>0.871754</td>\n",
              "      <td>0.817954</td>\n",
              "    </tr>\n",
              "    <tr>\n",
              "      <th>SepalWidthCm</th>\n",
              "      <td>-0.109369</td>\n",
              "      <td>1.000000</td>\n",
              "      <td>-0.420516</td>\n",
              "      <td>-0.356544</td>\n",
              "    </tr>\n",
              "    <tr>\n",
              "      <th>PetalLengthCm</th>\n",
              "      <td>0.871754</td>\n",
              "      <td>-0.420516</td>\n",
              "      <td>1.000000</td>\n",
              "      <td>0.962757</td>\n",
              "    </tr>\n",
              "    <tr>\n",
              "      <th>PetalWidthCm</th>\n",
              "      <td>0.817954</td>\n",
              "      <td>-0.356544</td>\n",
              "      <td>0.962757</td>\n",
              "      <td>1.000000</td>\n",
              "    </tr>\n",
              "  </tbody>\n",
              "</table>\n",
              "</div>"
            ],
            "text/plain": [
              "               SepalLengthCm  SepalWidthCm  PetalLengthCm  PetalWidthCm\n",
              "SepalLengthCm       1.000000     -0.109369       0.871754      0.817954\n",
              "SepalWidthCm       -0.109369      1.000000      -0.420516     -0.356544\n",
              "PetalLengthCm       0.871754     -0.420516       1.000000      0.962757\n",
              "PetalWidthCm        0.817954     -0.356544       0.962757      1.000000"
            ]
          },
          "metadata": {},
          "execution_count": 207
        }
      ]
    },
    {
      "cell_type": "code",
      "metadata": {
        "colab": {
          "base_uri": "https://localhost:8080/",
          "height": 359
        },
        "id": "8RbDOx7L38E5",
        "outputId": "0d4fc306-5e56-4279-e230-6462939e55de"
      },
      "source": [
        "plt.subplots(figsize=(10,5))\n",
        "htmp = sns.heatmap(newdata.corr(), annot=True, cmap='Blues')\n",
        "htmp.set_title('Correlation Heatmap', fontdict={'fontsize':15, \n",
        "                                                'fontweight':'bold'}, pad=10)"
      ],
      "execution_count": 208,
      "outputs": [
        {
          "output_type": "execute_result",
          "data": {
            "text/plain": [
              "Text(0.5, 1.0, 'Correlation Heatmap')"
            ]
          },
          "metadata": {},
          "execution_count": 208
        },
        {
          "output_type": "display_data",
          "data": {
            "image/png": "[encoded data removed]",
            "text/plain": [
              "<Figure size 720x360 with 2 Axes>"
            ]
          },
          "metadata": {
            "needs_background": "light"
          }
        }
      ]
    },
    {
      "cell_type": "markdown",
      "metadata": {
        "id": "oRdOz2R4nglg"
      },
      "source": [
        "**2. Data Processing**"
      ]
    },
    {
      "cell_type": "code",
      "metadata": {
        "colab": {
          "base_uri": "https://localhost:8080/",
          "height": 300
        },
        "id": "ZbWkKj594mVg",
        "outputId": "5aee1d3e-33f4-49e6-b63b-c3cab8960afc"
      },
      "source": [
        "newdata.describe()"
      ],
      "execution_count": 209,
      "outputs": [
        {
          "output_type": "execute_result",
          "data": {
            "text/html": [
              "<div>\n",
              "<style scoped>\n",
              "    .dataframe tbody tr th:only-of-type {\n",
              "        vertical-align: middle;\n",
              "    }\n",
              "\n",
              "    .dataframe tbody tr th {\n",
              "        vertical-align: top;\n",
              "    }\n",
              "\n",
              "    .dataframe thead th {\n",
              "        text-align: right;\n",
              "    }\n",
              "</style>\n",
              "<table border=\"1\" class=\"dataframe\">\n",
              "  <thead>\n",
              "    <tr style=\"text-align: right;\">\n",
              "      <th></th>\n",
              "      <th>SepalLengthCm</th>\n",
              "      <th>SepalWidthCm</th>\n",
              "      <th>PetalLengthCm</th>\n",
              "      <th>PetalWidthCm</th>\n",
              "    </tr>\n",
              "  </thead>\n",
              "  <tbody>\n",
              "    <tr>\n",
              "      <th>count</th>\n",
              "      <td>150.000000</td>\n",
              "      <td>150.000000</td>\n",
              "      <td>150.000000</td>\n",
              "      <td>150.000000</td>\n",
              "    </tr>\n",
              "    <tr>\n",
              "      <th>mean</th>\n",
              "      <td>5.843333</td>\n",
              "      <td>3.054000</td>\n",
              "      <td>3.758667</td>\n",
              "      <td>1.198667</td>\n",
              "    </tr>\n",
              "    <tr>\n",
              "      <th>std</th>\n",
              "      <td>0.828066</td>\n",
              "      <td>0.433594</td>\n",
              "      <td>1.764420</td>\n",
              "      <td>0.763161</td>\n",
              "    </tr>\n",
              "    <tr>\n",
              "      <th>min</th>\n",
              "      <td>4.300000</td>\n",
              "      <td>2.000000</td>\n",
              "      <td>1.000000</td>\n",
              "      <td>0.100000</td>\n",
              "    </tr>\n",
              "    <tr>\n",
              "      <th>25%</th>\n",
              "      <td>5.100000</td>\n",
              "      <td>2.800000</td>\n",
              "      <td>1.600000</td>\n",
              "      <td>0.300000</td>\n",
              "    </tr>\n",
              "    <tr>\n",
              "      <th>50%</th>\n",
              "      <td>5.800000</td>\n",
              "      <td>3.000000</td>\n",
              "      <td>4.350000</td>\n",
              "      <td>1.300000</td>\n",
              "    </tr>\n",
              "    <tr>\n",
              "      <th>75%</th>\n",
              "      <td>6.400000</td>\n",
              "      <td>3.300000</td>\n",
              "      <td>5.100000</td>\n",
              "      <td>1.800000</td>\n",
              "    </tr>\n",
              "    <tr>\n",
              "      <th>max</th>\n",
              "      <td>7.900000</td>\n",
              "      <td>4.400000</td>\n",
              "      <td>6.900000</td>\n",
              "      <td>2.500000</td>\n",
              "    </tr>\n",
              "  </tbody>\n",
              "</table>\n",
              "</div>"
            ],
            "text/plain": [
              "       SepalLengthCm  SepalWidthCm  PetalLengthCm  PetalWidthCm\n",
              "count     150.000000    150.000000     150.000000    150.000000\n",
              "mean        5.843333      3.054000       3.758667      1.198667\n",
              "std         0.828066      0.433594       1.764420      0.763161\n",
              "min         4.300000      2.000000       1.000000      0.100000\n",
              "25%         5.100000      2.800000       1.600000      0.300000\n",
              "50%         5.800000      3.000000       4.350000      1.300000\n",
              "75%         6.400000      3.300000       5.100000      1.800000\n",
              "max         7.900000      4.400000       6.900000      2.500000"
            ]
          },
          "metadata": {},
          "execution_count": 209
        }
      ]
    },
    {
      "cell_type": "code",
      "metadata": {
        "id": "6WRLENBO6xOg",
        "colab": {
          "base_uri": "https://localhost:8080/",
          "height": 300
        },
        "outputId": "6d66cab0-ee15-405d-868b-f03582aacb7a"
      },
      "source": [
        "newdata.describe()"
      ],
      "execution_count": 210,
      "outputs": [
        {
          "output_type": "execute_result",
          "data": {
            "text/html": [
              "<div>\n",
              "<style scoped>\n",
              "    .dataframe tbody tr th:only-of-type {\n",
              "        vertical-align: middle;\n",
              "    }\n",
              "\n",
              "    .dataframe tbody tr th {\n",
              "        vertical-align: top;\n",
              "    }\n",
              "\n",
              "    .dataframe thead th {\n",
              "        text-align: right;\n",
              "    }\n",
              "</style>\n",
              "<table border=\"1\" class=\"dataframe\">\n",
              "  <thead>\n",
              "    <tr style=\"text-align: right;\">\n",
              "      <th></th>\n",
              "      <th>SepalLengthCm</th>\n",
              "      <th>SepalWidthCm</th>\n",
              "      <th>PetalLengthCm</th>\n",
              "      <th>PetalWidthCm</th>\n",
              "    </tr>\n",
              "  </thead>\n",
              "  <tbody>\n",
              "    <tr>\n",
              "      <th>count</th>\n",
              "      <td>150.000000</td>\n",
              "      <td>150.000000</td>\n",
              "      <td>150.000000</td>\n",
              "      <td>150.000000</td>\n",
              "    </tr>\n",
              "    <tr>\n",
              "      <th>mean</th>\n",
              "      <td>5.843333</td>\n",
              "      <td>3.054000</td>\n",
              "      <td>3.758667</td>\n",
              "      <td>1.198667</td>\n",
              "    </tr>\n",
              "    <tr>\n",
              "      <th>std</th>\n",
              "      <td>0.828066</td>\n",
              "      <td>0.433594</td>\n",
              "      <td>1.764420</td>\n",
              "      <td>0.763161</td>\n",
              "    </tr>\n",
              "    <tr>\n",
              "      <th>min</th>\n",
              "      <td>4.300000</td>\n",
              "      <td>2.000000</td>\n",
              "      <td>1.000000</td>\n",
              "      <td>0.100000</td>\n",
              "    </tr>\n",
              "    <tr>\n",
              "      <th>25%</th>\n",
              "      <td>5.100000</td>\n",
              "      <td>2.800000</td>\n",
              "      <td>1.600000</td>\n",
              "      <td>0.300000</td>\n",
              "    </tr>\n",
              "    <tr>\n",
              "      <th>50%</th>\n",
              "      <td>5.800000</td>\n",
              "      <td>3.000000</td>\n",
              "      <td>4.350000</td>\n",
              "      <td>1.300000</td>\n",
              "    </tr>\n",
              "    <tr>\n",
              "      <th>75%</th>\n",
              "      <td>6.400000</td>\n",
              "      <td>3.300000</td>\n",
              "      <td>5.100000</td>\n",
              "      <td>1.800000</td>\n",
              "    </tr>\n",
              "    <tr>\n",
              "      <th>max</th>\n",
              "      <td>7.900000</td>\n",
              "      <td>4.400000</td>\n",
              "      <td>6.900000</td>\n",
              "      <td>2.500000</td>\n",
              "    </tr>\n",
              "  </tbody>\n",
              "</table>\n",
              "</div>"
            ],
            "text/plain": [
              "       SepalLengthCm  SepalWidthCm  PetalLengthCm  PetalWidthCm\n",
              "count     150.000000    150.000000     150.000000    150.000000\n",
              "mean        5.843333      3.054000       3.758667      1.198667\n",
              "std         0.828066      0.433594       1.764420      0.763161\n",
              "min         4.300000      2.000000       1.000000      0.100000\n",
              "25%         5.100000      2.800000       1.600000      0.300000\n",
              "50%         5.800000      3.000000       4.350000      1.300000\n",
              "75%         6.400000      3.300000       5.100000      1.800000\n",
              "max         7.900000      4.400000       6.900000      2.500000"
            ]
          },
          "metadata": {},
          "execution_count": 210
        }
      ]
    },
    {
      "cell_type": "code",
      "metadata": {
        "colab": {
          "base_uri": "https://localhost:8080/"
        },
        "id": "ahWryb7eWyWf",
        "outputId": "a99384de-9898-47e8-848b-dd98a020242d"
      },
      "source": [
        "newdata.info()"
      ],
      "execution_count": 211,
      "outputs": [
        {
          "output_type": "stream",
          "name": "stdout",
          "text": [
            "<class 'pandas.core.frame.DataFrame'>\n",
            "RangeIndex: 150 entries, 0 to 149\n",
            "Data columns (total 5 columns):\n",
            " #   Column         Non-Null Count  Dtype  \n",
            "---  ------         --------------  -----  \n",
            " 0   SepalLengthCm  150 non-null    float64\n",
            " 1   SepalWidthCm   150 non-null    float64\n",
            " 2   PetalLengthCm  150 non-null    float64\n",
            " 3   PetalWidthCm   150 non-null    float64\n",
            " 4   Species        150 non-null    object \n",
            "dtypes: float64(4), object(1)\n",
            "memory usage: 6.0+ KB\n"
          ]
        }
      ]
    },
    {
      "cell_type": "code",
      "metadata": {
        "colab": {
          "base_uri": "https://localhost:8080/",
          "height": 423
        },
        "id": "a3_tdmLJXHar",
        "outputId": "40ad7885-b11f-44d6-c12c-98200007aebe"
      },
      "source": [
        "newdata"
      ],
      "execution_count": 212,
      "outputs": [
        {
          "output_type": "execute_result",
          "data": {
            "text/html": [
              "<div>\n",
              "<style scoped>\n",
              "    .dataframe tbody tr th:only-of-type {\n",
              "        vertical-align: middle;\n",
              "    }\n",
              "\n",
              "    .dataframe tbody tr th {\n",
              "        vertical-align: top;\n",
              "    }\n",
              "\n",
              "    .dataframe thead th {\n",
              "        text-align: right;\n",
              "    }\n",
              "</style>\n",
              "<table border=\"1\" class=\"dataframe\">\n",
              "  <thead>\n",
              "    <tr style=\"text-align: right;\">\n",
              "      <th></th>\n",
              "      <th>SepalLengthCm</th>\n",
              "      <th>SepalWidthCm</th>\n",
              "      <th>PetalLengthCm</th>\n",
              "      <th>PetalWidthCm</th>\n",
              "      <th>Species</th>\n",
              "    </tr>\n",
              "  </thead>\n",
              "  <tbody>\n",
              "    <tr>\n",
              "      <th>0</th>\n",
              "      <td>5.1</td>\n",
              "      <td>3.5</td>\n",
              "      <td>1.4</td>\n",
              "      <td>0.2</td>\n",
              "      <td>Iris-setosa</td>\n",
              "    </tr>\n",
              "    <tr>\n",
              "      <th>1</th>\n",
              "      <td>4.9</td>\n",
              "      <td>3.0</td>\n",
              "      <td>1.4</td>\n",
              "      <td>0.2</td>\n",
              "      <td>Iris-setosa</td>\n",
              "    </tr>\n",
              "    <tr>\n",
              "      <th>2</th>\n",
              "      <td>4.7</td>\n",
              "      <td>3.2</td>\n",
              "      <td>1.3</td>\n",
              "      <td>0.2</td>\n",
              "      <td>Iris-setosa</td>\n",
              "    </tr>\n",
              "    <tr>\n",
              "      <th>3</th>\n",
              "      <td>4.6</td>\n",
              "      <td>3.1</td>\n",
              "      <td>1.5</td>\n",
              "      <td>0.2</td>\n",
              "      <td>Iris-setosa</td>\n",
              "    </tr>\n",
              "    <tr>\n",
              "      <th>4</th>\n",
              "      <td>5.0</td>\n",
              "      <td>3.6</td>\n",
              "      <td>1.4</td>\n",
              "      <td>0.2</td>\n",
              "      <td>Iris-setosa</td>\n",
              "    </tr>\n",
              "    <tr>\n",
              "      <th>...</th>\n",
              "      <td>...</td>\n",
              "      <td>...</td>\n",
              "      <td>...</td>\n",
              "      <td>...</td>\n",
              "      <td>...</td>\n",
              "    </tr>\n",
              "    <tr>\n",
              "      <th>145</th>\n",
              "      <td>6.7</td>\n",
              "      <td>3.0</td>\n",
              "      <td>5.2</td>\n",
              "      <td>2.3</td>\n",
              "      <td>Iris-virginica</td>\n",
              "    </tr>\n",
              "    <tr>\n",
              "      <th>146</th>\n",
              "      <td>6.3</td>\n",
              "      <td>2.5</td>\n",
              "      <td>5.0</td>\n",
              "      <td>1.9</td>\n",
              "      <td>Iris-virginica</td>\n",
              "    </tr>\n",
              "    <tr>\n",
              "      <th>147</th>\n",
              "      <td>6.5</td>\n",
              "      <td>3.0</td>\n",
              "      <td>5.2</td>\n",
              "      <td>2.0</td>\n",
              "      <td>Iris-virginica</td>\n",
              "    </tr>\n",
              "    <tr>\n",
              "      <th>148</th>\n",
              "      <td>6.2</td>\n",
              "      <td>3.4</td>\n",
              "      <td>5.4</td>\n",
              "      <td>2.3</td>\n",
              "      <td>Iris-virginica</td>\n",
              "    </tr>\n",
              "    <tr>\n",
              "      <th>149</th>\n",
              "      <td>5.9</td>\n",
              "      <td>3.0</td>\n",
              "      <td>5.1</td>\n",
              "      <td>1.8</td>\n",
              "      <td>Iris-virginica</td>\n",
              "    </tr>\n",
              "  </tbody>\n",
              "</table>\n",
              "<p>150 rows × 5 columns</p>\n",
              "</div>"
            ],
            "text/plain": [
              "     SepalLengthCm  SepalWidthCm  PetalLengthCm  PetalWidthCm         Species\n",
              "0              5.1           3.5            1.4           0.2     Iris-setosa\n",
              "1              4.9           3.0            1.4           0.2     Iris-setosa\n",
              "2              4.7           3.2            1.3           0.2     Iris-setosa\n",
              "3              4.6           3.1            1.5           0.2     Iris-setosa\n",
              "4              5.0           3.6            1.4           0.2     Iris-setosa\n",
              "..             ...           ...            ...           ...             ...\n",
              "145            6.7           3.0            5.2           2.3  Iris-virginica\n",
              "146            6.3           2.5            5.0           1.9  Iris-virginica\n",
              "147            6.5           3.0            5.2           2.0  Iris-virginica\n",
              "148            6.2           3.4            5.4           2.3  Iris-virginica\n",
              "149            5.9           3.0            5.1           1.8  Iris-virginica\n",
              "\n",
              "[150 rows x 5 columns]"
            ]
          },
          "metadata": {},
          "execution_count": 212
        }
      ]
    },
    {
      "cell_type": "code",
      "metadata": {
        "colab": {
          "base_uri": "https://localhost:8080/",
          "height": 423
        },
        "id": "ipyhfTT4XJdj",
        "outputId": "9032ecb3-128c-4585-8015-f2656136f218"
      },
      "source": [
        "X = newdata.drop(['Species'],axis=1)\n",
        "X"
      ],
      "execution_count": 213,
      "outputs": [
        {
          "output_type": "execute_result",
          "data": {
            "text/html": [
              "<div>\n",
              "<style scoped>\n",
              "    .dataframe tbody tr th:only-of-type {\n",
              "        vertical-align: middle;\n",
              "    }\n",
              "\n",
              "    .dataframe tbody tr th {\n",
              "        vertical-align: top;\n",
              "    }\n",
              "\n",
              "    .dataframe thead th {\n",
              "        text-align: right;\n",
              "    }\n",
              "</style>\n",
              "<table border=\"1\" class=\"dataframe\">\n",
              "  <thead>\n",
              "    <tr style=\"text-align: right;\">\n",
              "      <th></th>\n",
              "      <th>SepalLengthCm</th>\n",
              "      <th>SepalWidthCm</th>\n",
              "      <th>PetalLengthCm</th>\n",
              "      <th>PetalWidthCm</th>\n",
              "    </tr>\n",
              "  </thead>\n",
              "  <tbody>\n",
              "    <tr>\n",
              "      <th>0</th>\n",
              "      <td>5.1</td>\n",
              "      <td>3.5</td>\n",
              "      <td>1.4</td>\n",
              "      <td>0.2</td>\n",
              "    </tr>\n",
              "    <tr>\n",
              "      <th>1</th>\n",
              "      <td>4.9</td>\n",
              "      <td>3.0</td>\n",
              "      <td>1.4</td>\n",
              "      <td>0.2</td>\n",
              "    </tr>\n",
              "    <tr>\n",
              "      <th>2</th>\n",
              "      <td>4.7</td>\n",
              "      <td>3.2</td>\n",
              "      <td>1.3</td>\n",
              "      <td>0.2</td>\n",
              "    </tr>\n",
              "    <tr>\n",
              "      <th>3</th>\n",
              "      <td>4.6</td>\n",
              "      <td>3.1</td>\n",
              "      <td>1.5</td>\n",
              "      <td>0.2</td>\n",
              "    </tr>\n",
              "    <tr>\n",
              "      <th>4</th>\n",
              "      <td>5.0</td>\n",
              "      <td>3.6</td>\n",
              "      <td>1.4</td>\n",
              "      <td>0.2</td>\n",
              "    </tr>\n",
              "    <tr>\n",
              "      <th>...</th>\n",
              "      <td>...</td>\n",
              "      <td>...</td>\n",
              "      <td>...</td>\n",
              "      <td>...</td>\n",
              "    </tr>\n",
              "    <tr>\n",
              "      <th>145</th>\n",
              "      <td>6.7</td>\n",
              "      <td>3.0</td>\n",
              "      <td>5.2</td>\n",
              "      <td>2.3</td>\n",
              "    </tr>\n",
              "    <tr>\n",
              "      <th>146</th>\n",
              "      <td>6.3</td>\n",
              "      <td>2.5</td>\n",
              "      <td>5.0</td>\n",
              "      <td>1.9</td>\n",
              "    </tr>\n",
              "    <tr>\n",
              "      <th>147</th>\n",
              "      <td>6.5</td>\n",
              "      <td>3.0</td>\n",
              "      <td>5.2</td>\n",
              "      <td>2.0</td>\n",
              "    </tr>\n",
              "    <tr>\n",
              "      <th>148</th>\n",
              "      <td>6.2</td>\n",
              "      <td>3.4</td>\n",
              "      <td>5.4</td>\n",
              "      <td>2.3</td>\n",
              "    </tr>\n",
              "    <tr>\n",
              "      <th>149</th>\n",
              "      <td>5.9</td>\n",
              "      <td>3.0</td>\n",
              "      <td>5.1</td>\n",
              "      <td>1.8</td>\n",
              "    </tr>\n",
              "  </tbody>\n",
              "</table>\n",
              "<p>150 rows × 4 columns</p>\n",
              "</div>"
            ],
            "text/plain": [
              "     SepalLengthCm  SepalWidthCm  PetalLengthCm  PetalWidthCm\n",
              "0              5.1           3.5            1.4           0.2\n",
              "1              4.9           3.0            1.4           0.2\n",
              "2              4.7           3.2            1.3           0.2\n",
              "3              4.6           3.1            1.5           0.2\n",
              "4              5.0           3.6            1.4           0.2\n",
              "..             ...           ...            ...           ...\n",
              "145            6.7           3.0            5.2           2.3\n",
              "146            6.3           2.5            5.0           1.9\n",
              "147            6.5           3.0            5.2           2.0\n",
              "148            6.2           3.4            5.4           2.3\n",
              "149            5.9           3.0            5.1           1.8\n",
              "\n",
              "[150 rows x 4 columns]"
            ]
          },
          "metadata": {},
          "execution_count": 213
        }
      ]
    },
    {
      "cell_type": "code",
      "metadata": {
        "colab": {
          "base_uri": "https://localhost:8080/"
        },
        "id": "9cW2roWIXVmK",
        "outputId": "c8f79d36-5f99-4797-9721-0c735f904dfd"
      },
      "source": [
        "y = newdata['Species']\n",
        "y"
      ],
      "execution_count": 214,
      "outputs": [
        {
          "output_type": "execute_result",
          "data": {
            "text/plain": [
              "0         Iris-setosa\n",
              "1         Iris-setosa\n",
              "2         Iris-setosa\n",
              "3         Iris-setosa\n",
              "4         Iris-setosa\n",
              "            ...      \n",
              "145    Iris-virginica\n",
              "146    Iris-virginica\n",
              "147    Iris-virginica\n",
              "148    Iris-virginica\n",
              "149    Iris-virginica\n",
              "Name: Species, Length: 150, dtype: object"
            ]
          },
          "metadata": {},
          "execution_count": 214
        }
      ]
    },
    {
      "cell_type": "code",
      "metadata": {
        "colab": {
          "base_uri": "https://localhost:8080/"
        },
        "id": "o3mJK4G9XdRI",
        "outputId": "35a69539-72a2-4dea-de3c-4d5986646b00"
      },
      "source": [
        "LE = LabelEncoder()\n",
        "y = LE.fit_transform(y)\n",
        "y"
      ],
      "execution_count": 215,
      "outputs": [
        {
          "output_type": "execute_result",
          "data": {
            "text/plain": [
              "array([0, 0, 0, 0, 0, 0, 0, 0, 0, 0, 0, 0, 0, 0, 0, 0, 0, 0, 0, 0, 0, 0,\n",
              "       0, 0, 0, 0, 0, 0, 0, 0, 0, 0, 0, 0, 0, 0, 0, 0, 0, 0, 0, 0, 0, 0,\n",
              "       0, 0, 0, 0, 0, 0, 1, 1, 1, 1, 1, 1, 1, 1, 1, 1, 1, 1, 1, 1, 1, 1,\n",
              "       1, 1, 1, 1, 1, 1, 1, 1, 1, 1, 1, 1, 1, 1, 1, 1, 1, 1, 1, 1, 1, 1,\n",
              "       1, 1, 1, 1, 1, 1, 1, 1, 1, 1, 1, 1, 2, 2, 2, 2, 2, 2, 2, 2, 2, 2,\n",
              "       2, 2, 2, 2, 2, 2, 2, 2, 2, 2, 2, 2, 2, 2, 2, 2, 2, 2, 2, 2, 2, 2,\n",
              "       2, 2, 2, 2, 2, 2, 2, 2, 2, 2, 2, 2, 2, 2, 2, 2, 2, 2])"
            ]
          },
          "metadata": {},
          "execution_count": 215
        }
      ]
    },
    {
      "cell_type": "code",
      "metadata": {
        "colab": {
          "base_uri": "https://localhost:8080/"
        },
        "id": "V-i6ijsyXqjA",
        "outputId": "61a6af1f-1237-4bbb-fddb-b645abdd4a9d"
      },
      "source": [
        "X = np.array(x)\n",
        "X"
      ],
      "execution_count": 216,
      "outputs": [
        {
          "output_type": "execute_result",
          "data": {
            "text/plain": [
              "array([[5.1, 3.5, 1.4, 0.2],\n",
              "       [4.9, 3. , 1.4, 0.2],\n",
              "       [4.7, 3.2, 1.3, 0.2],\n",
              "       [4.6, 3.1, 1.5, 0.2],\n",
              "       [5. , 3.6, 1.4, 0.2],\n",
              "       [5.4, 3.9, 1.7, 0.4],\n",
              "       [4.6, 3.4, 1.4, 0.3],\n",
              "       [5. , 3.4, 1.5, 0.2],\n",
              "       [4.4, 2.9, 1.4, 0.2],\n",
              "       [4.9, 3.1, 1.5, 0.1],\n",
              "       [5.4, 3.7, 1.5, 0.2],\n",
              "       [4.8, 3.4, 1.6, 0.2],\n",
              "       [4.8, 3. , 1.4, 0.1],\n",
              "       [4.3, 3. , 1.1, 0.1],\n",
              "       [5.8, 4. , 1.2, 0.2],\n",
              "       [5.7, 4.4, 1.5, 0.4],\n",
              "       [5.4, 3.9, 1.3, 0.4],\n",
              "       [5.1, 3.5, 1.4, 0.3],\n",
              "       [5.7, 3.8, 1.7, 0.3],\n",
              "       [5.1, 3.8, 1.5, 0.3],\n",
              "       [5.4, 3.4, 1.7, 0.2],\n",
              "       [5.1, 3.7, 1.5, 0.4],\n",
              "       [4.6, 3.6, 1. , 0.2],\n",
              "       [5.1, 3.3, 1.7, 0.5],\n",
              "       [4.8, 3.4, 1.9, 0.2],\n",
              "       [5. , 3. , 1.6, 0.2],\n",
              "       [5. , 3.4, 1.6, 0.4],\n",
              "       [5.2, 3.5, 1.5, 0.2],\n",
              "       [5.2, 3.4, 1.4, 0.2],\n",
              "       [4.7, 3.2, 1.6, 0.2],\n",
              "       [4.8, 3.1, 1.6, 0.2],\n",
              "       [5.4, 3.4, 1.5, 0.4],\n",
              "       [5.2, 4.1, 1.5, 0.1],\n",
              "       [5.5, 4.2, 1.4, 0.2],\n",
              "       [4.9, 3.1, 1.5, 0.1],\n",
              "       [5. , 3.2, 1.2, 0.2],\n",
              "       [5.5, 3.5, 1.3, 0.2],\n",
              "       [4.9, 3.1, 1.5, 0.1],\n",
              "       [4.4, 3. , 1.3, 0.2],\n",
              "       [5.1, 3.4, 1.5, 0.2],\n",
              "       [5. , 3.5, 1.3, 0.3],\n",
              "       [4.5, 2.3, 1.3, 0.3],\n",
              "       [4.4, 3.2, 1.3, 0.2],\n",
              "       [5. , 3.5, 1.6, 0.6],\n",
              "       [5.1, 3.8, 1.9, 0.4],\n",
              "       [4.8, 3. , 1.4, 0.3],\n",
              "       [5.1, 3.8, 1.6, 0.2],\n",
              "       [4.6, 3.2, 1.4, 0.2],\n",
              "       [5.3, 3.7, 1.5, 0.2],\n",
              "       [5. , 3.3, 1.4, 0.2],\n",
              "       [7. , 3.2, 4.7, 1.4],\n",
              "       [6.4, 3.2, 4.5, 1.5],\n",
              "       [6.9, 3.1, 4.9, 1.5],\n",
              "       [5.5, 2.3, 4. , 1.3],\n",
              "       [6.5, 2.8, 4.6, 1.5],\n",
              "       [5.7, 2.8, 4.5, 1.3],\n",
              "       [6.3, 3.3, 4.7, 1.6],\n",
              "       [4.9, 2.4, 3.3, 1. ],\n",
              "       [6.6, 2.9, 4.6, 1.3],\n",
              "       [5.2, 2.7, 3.9, 1.4],\n",
              "       [5. , 2. , 3.5, 1. ],\n",
              "       [5.9, 3. , 4.2, 1.5],\n",
              "       [6. , 2.2, 4. , 1. ],\n",
              "       [6.1, 2.9, 4.7, 1.4],\n",
              "       [5.6, 2.9, 3.6, 1.3],\n",
              "       [6.7, 3.1, 4.4, 1.4],\n",
              "       [5.6, 3. , 4.5, 1.5],\n",
              "       [5.8, 2.7, 4.1, 1. ],\n",
              "       [6.2, 2.2, 4.5, 1.5],\n",
              "       [5.6, 2.5, 3.9, 1.1],\n",
              "       [5.9, 3.2, 4.8, 1.8],\n",
              "       [6.1, 2.8, 4. , 1.3],\n",
              "       [6.3, 2.5, 4.9, 1.5],\n",
              "       [6.1, 2.8, 4.7, 1.2],\n",
              "       [6.4, 2.9, 4.3, 1.3],\n",
              "       [6.6, 3. , 4.4, 1.4],\n",
              "       [6.8, 2.8, 4.8, 1.4],\n",
              "       [6.7, 3. , 5. , 1.7],\n",
              "       [6. , 2.9, 4.5, 1.5],\n",
              "       [5.7, 2.6, 3.5, 1. ],\n",
              "       [5.5, 2.4, 3.8, 1.1],\n",
              "       [5.5, 2.4, 3.7, 1. ],\n",
              "       [5.8, 2.7, 3.9, 1.2],\n",
              "       [6. , 2.7, 5.1, 1.6],\n",
              "       [5.4, 3. , 4.5, 1.5],\n",
              "       [6. , 3.4, 4.5, 1.6],\n",
              "       [6.7, 3.1, 4.7, 1.5],\n",
              "       [6.3, 2.3, 4.4, 1.3],\n",
              "       [5.6, 3. , 4.1, 1.3],\n",
              "       [5.5, 2.5, 4. , 1.3],\n",
              "       [5.5, 2.6, 4.4, 1.2],\n",
              "       [6.1, 3. , 4.6, 1.4],\n",
              "       [5.8, 2.6, 4. , 1.2],\n",
              "       [5. , 2.3, 3.3, 1. ],\n",
              "       [5.6, 2.7, 4.2, 1.3],\n",
              "       [5.7, 3. , 4.2, 1.2],\n",
              "       [5.7, 2.9, 4.2, 1.3],\n",
              "       [6.2, 2.9, 4.3, 1.3],\n",
              "       [5.1, 2.5, 3. , 1.1],\n",
              "       [5.7, 2.8, 4.1, 1.3],\n",
              "       [6.3, 3.3, 6. , 2.5],\n",
              "       [5.8, 2.7, 5.1, 1.9],\n",
              "       [7.1, 3. , 5.9, 2.1],\n",
              "       [6.3, 2.9, 5.6, 1.8],\n",
              "       [6.5, 3. , 5.8, 2.2],\n",
              "       [7.6, 3. , 6.6, 2.1],\n",
              "       [4.9, 2.5, 4.5, 1.7],\n",
              "       [7.3, 2.9, 6.3, 1.8],\n",
              "       [6.7, 2.5, 5.8, 1.8],\n",
              "       [7.2, 3.6, 6.1, 2.5],\n",
              "       [6.5, 3.2, 5.1, 2. ],\n",
              "       [6.4, 2.7, 5.3, 1.9],\n",
              "       [6.8, 3. , 5.5, 2.1],\n",
              "       [5.7, 2.5, 5. , 2. ],\n",
              "       [5.8, 2.8, 5.1, 2.4],\n",
              "       [6.4, 3.2, 5.3, 2.3],\n",
              "       [6.5, 3. , 5.5, 1.8],\n",
              "       [7.7, 3.8, 6.7, 2.2],\n",
              "       [7.7, 2.6, 6.9, 2.3],\n",
              "       [6. , 2.2, 5. , 1.5],\n",
              "       [6.9, 3.2, 5.7, 2.3],\n",
              "       [5.6, 2.8, 4.9, 2. ],\n",
              "       [7.7, 2.8, 6.7, 2. ],\n",
              "       [6.3, 2.7, 4.9, 1.8],\n",
              "       [6.7, 3.3, 5.7, 2.1],\n",
              "       [7.2, 3.2, 6. , 1.8],\n",
              "       [6.2, 2.8, 4.8, 1.8],\n",
              "       [6.1, 3. , 4.9, 1.8],\n",
              "       [6.4, 2.8, 5.6, 2.1],\n",
              "       [7.2, 3. , 5.8, 1.6],\n",
              "       [7.4, 2.8, 6.1, 1.9],\n",
              "       [7.9, 3.8, 6.4, 2. ],\n",
              "       [6.4, 2.8, 5.6, 2.2],\n",
              "       [6.3, 2.8, 5.1, 1.5],\n",
              "       [6.1, 2.6, 5.6, 1.4],\n",
              "       [7.7, 3. , 6.1, 2.3],\n",
              "       [6.3, 3.4, 5.6, 2.4],\n",
              "       [6.4, 3.1, 5.5, 1.8],\n",
              "       [6. , 3. , 4.8, 1.8],\n",
              "       [6.9, 3.1, 5.4, 2.1],\n",
              "       [6.7, 3.1, 5.6, 2.4],\n",
              "       [6.9, 3.1, 5.1, 2.3],\n",
              "       [5.8, 2.7, 5.1, 1.9],\n",
              "       [6.8, 3.2, 5.9, 2.3],\n",
              "       [6.7, 3.3, 5.7, 2.5],\n",
              "       [6.7, 3. , 5.2, 2.3],\n",
              "       [6.3, 2.5, 5. , 1.9],\n",
              "       [6.5, 3. , 5.2, 2. ],\n",
              "       [6.2, 3.4, 5.4, 2.3],\n",
              "       [5.9, 3. , 5.1, 1.8]])"
            ]
          },
          "metadata": {},
          "execution_count": 216
        }
      ]
    },
    {
      "cell_type": "markdown",
      "metadata": {
        "id": "UmlQSw0ZnvNW"
      },
      "source": [
        "**Splitting into train and test dataset**"
      ]
    },
    {
      "cell_type": "code",
      "metadata": {
        "colab": {
          "base_uri": "https://localhost:8080/"
        },
        "id": "15nVGzKlX1KA",
        "outputId": "48c37f8f-fab6-49b6-ee90-bf6019159d0b"
      },
      "source": [
        "X_train,X_test,y_train,y_test = train_test_split(X,y,test_size=0.1,random_state=3)\n",
        "X_train"
      ],
      "execution_count": 217,
      "outputs": [
        {
          "output_type": "execute_result",
          "data": {
            "text/plain": [
              "array([[5. , 3.5, 1.3, 0.3],\n",
              "       [6.3, 2.5, 4.9, 1.5],\n",
              "       [7.7, 3. , 6.1, 2.3],\n",
              "       [5.7, 2.5, 5. , 2. ],\n",
              "       [4.4, 3.2, 1.3, 0.2],\n",
              "       [6.2, 2.8, 4.8, 1.8],\n",
              "       [6.8, 3. , 5.5, 2.1],\n",
              "       [6.9, 3.1, 5.1, 2.3],\n",
              "       [6.8, 2.8, 4.8, 1.4],\n",
              "       [5.4, 3.9, 1.7, 0.4],\n",
              "       [7.2, 3.6, 6.1, 2.5],\n",
              "       [6.1, 2.6, 5.6, 1.4],\n",
              "       [5.8, 2.7, 4.1, 1. ],\n",
              "       [4.9, 2.4, 3.3, 1. ],\n",
              "       [6.7, 3.1, 4.7, 1.5],\n",
              "       [5.8, 4. , 1.2, 0.2],\n",
              "       [4.8, 3.4, 1.9, 0.2],\n",
              "       [6.9, 3.1, 5.4, 2.1],\n",
              "       [6.6, 2.9, 4.6, 1.3],\n",
              "       [4.4, 2.9, 1.4, 0.2],\n",
              "       [5.2, 3.5, 1.5, 0.2],\n",
              "       [6.7, 3. , 5. , 1.7],\n",
              "       [4.5, 2.3, 1.3, 0.3],\n",
              "       [6.4, 2.7, 5.3, 1.9],\n",
              "       [6.2, 2.2, 4.5, 1.5],\n",
              "       [6.4, 2.8, 5.6, 2.1],\n",
              "       [5.8, 2.7, 3.9, 1.2],\n",
              "       [4.6, 3.6, 1. , 0.2],\n",
              "       [5.1, 3.5, 1.4, 0.3],\n",
              "       [6.1, 3. , 4.9, 1.8],\n",
              "       [6.4, 3.2, 4.5, 1.5],\n",
              "       [5.1, 3.3, 1.7, 0.5],\n",
              "       [6. , 2.7, 5.1, 1.6],\n",
              "       [5.8, 2.7, 5.1, 1.9],\n",
              "       [5.4, 3. , 4.5, 1.5],\n",
              "       [4.8, 3. , 1.4, 0.3],\n",
              "       [5. , 3.2, 1.2, 0.2],\n",
              "       [5.8, 2.7, 5.1, 1.9],\n",
              "       [7. , 3.2, 4.7, 1.4],\n",
              "       [6.1, 2.8, 4.7, 1.2],\n",
              "       [4.9, 3.1, 1.5, 0.1],\n",
              "       [6.3, 3.4, 5.6, 2.4],\n",
              "       [5.1, 3.8, 1.5, 0.3],\n",
              "       [6.5, 3. , 5.5, 1.8],\n",
              "       [5.7, 2.9, 4.2, 1.3],\n",
              "       [5. , 3.6, 1.4, 0.2],\n",
              "       [4.8, 3. , 1.4, 0.1],\n",
              "       [6.8, 3.2, 5.9, 2.3],\n",
              "       [5.9, 3.2, 4.8, 1.8],\n",
              "       [5.4, 3.7, 1.5, 0.2],\n",
              "       [4.8, 3.4, 1.6, 0.2],\n",
              "       [5.1, 2.5, 3. , 1.1],\n",
              "       [6.4, 3.1, 5.5, 1.8],\n",
              "       [6.3, 3.3, 6. , 2.5],\n",
              "       [4.9, 3.1, 1.5, 0.1],\n",
              "       [6.7, 3.3, 5.7, 2.1],\n",
              "       [5.7, 3. , 4.2, 1.2],\n",
              "       [4.7, 3.2, 1.6, 0.2],\n",
              "       [5.1, 3.4, 1.5, 0.2],\n",
              "       [7.4, 2.8, 6.1, 1.9],\n",
              "       [7.7, 3.8, 6.7, 2.2],\n",
              "       [5.8, 2.8, 5.1, 2.4],\n",
              "       [5.7, 2.8, 4.1, 1.3],\n",
              "       [5.2, 2.7, 3.9, 1.4],\n",
              "       [6.3, 2.3, 4.4, 1.3],\n",
              "       [5.1, 3.8, 1.9, 0.4],\n",
              "       [5.5, 3.5, 1.3, 0.2],\n",
              "       [6.4, 3.2, 5.3, 2.3],\n",
              "       [6.7, 3.3, 5.7, 2.5],\n",
              "       [6.9, 3.1, 4.9, 1.5],\n",
              "       [7.1, 3. , 5.9, 2.1],\n",
              "       [5.9, 3. , 4.2, 1.5],\n",
              "       [7.7, 2.8, 6.7, 2. ],\n",
              "       [4.8, 3.1, 1.6, 0.2],\n",
              "       [6.3, 2.8, 5.1, 1.5],\n",
              "       [4.3, 3. , 1.1, 0.1],\n",
              "       [5.7, 2.8, 4.5, 1.3],\n",
              "       [6.6, 3. , 4.4, 1.4],\n",
              "       [6.4, 2.8, 5.6, 2.2],\n",
              "       [6.2, 3.4, 5.4, 2.3],\n",
              "       [5.2, 4.1, 1.5, 0.1],\n",
              "       [5.5, 2.4, 3.8, 1.1],\n",
              "       [5.4, 3.9, 1.3, 0.4],\n",
              "       [6.1, 3. , 4.6, 1.4],\n",
              "       [6.4, 2.9, 4.3, 1.3],\n",
              "       [6. , 3.4, 4.5, 1.6],\n",
              "       [4.9, 3. , 1.4, 0.2],\n",
              "       [7.2, 3.2, 6. , 1.8],\n",
              "       [5.1, 3.8, 1.6, 0.2],\n",
              "       [6.7, 2.5, 5.8, 1.8],\n",
              "       [6.1, 2.8, 4. , 1.3],\n",
              "       [6.7, 3. , 5.2, 2.3],\n",
              "       [6.3, 3.3, 4.7, 1.6],\n",
              "       [5.6, 2.8, 4.9, 2. ],\n",
              "       [6.1, 2.9, 4.7, 1.4],\n",
              "       [5.7, 3.8, 1.7, 0.3],\n",
              "       [7.6, 3. , 6.6, 2.1],\n",
              "       [5.6, 2.9, 3.6, 1.3],\n",
              "       [6.5, 3. , 5.2, 2. ],\n",
              "       [6.5, 2.8, 4.6, 1.5],\n",
              "       [5.2, 3.4, 1.4, 0.2],\n",
              "       [6. , 2.9, 4.5, 1.5],\n",
              "       [6.3, 2.5, 5. , 1.9],\n",
              "       [5. , 3.3, 1.4, 0.2],\n",
              "       [5.6, 2.7, 4.2, 1.3],\n",
              "       [5.4, 3.4, 1.7, 0.2],\n",
              "       [4.9, 3.1, 1.5, 0.1],\n",
              "       [5.3, 3.7, 1.5, 0.2],\n",
              "       [5.7, 2.6, 3.5, 1. ],\n",
              "       [6.3, 2.7, 4.9, 1.8],\n",
              "       [5.5, 4.2, 1.4, 0.2],\n",
              "       [5. , 3.5, 1.6, 0.6],\n",
              "       [6.9, 3.2, 5.7, 2.3],\n",
              "       [5. , 3.4, 1.5, 0.2],\n",
              "       [6. , 2.2, 4. , 1. ],\n",
              "       [5.9, 3. , 5.1, 1.8],\n",
              "       [6.2, 2.9, 4.3, 1.3],\n",
              "       [6.5, 3.2, 5.1, 2. ],\n",
              "       [6.5, 3. , 5.8, 2.2],\n",
              "       [5.6, 2.5, 3.9, 1.1],\n",
              "       [5.5, 2.6, 4.4, 1.2],\n",
              "       [7.2, 3. , 5.8, 1.6],\n",
              "       [5. , 2. , 3.5, 1. ],\n",
              "       [4.7, 3.2, 1.3, 0.2],\n",
              "       [5.6, 3. , 4.5, 1.5],\n",
              "       [5.5, 2.4, 3.7, 1. ],\n",
              "       [5. , 3.4, 1.6, 0.4],\n",
              "       [5. , 2.3, 3.3, 1. ],\n",
              "       [6. , 2.2, 5. , 1.5],\n",
              "       [6. , 3. , 4.8, 1.8],\n",
              "       [7.3, 2.9, 6.3, 1.8],\n",
              "       [5.1, 3.7, 1.5, 0.4],\n",
              "       [5.1, 3.5, 1.4, 0.2],\n",
              "       [7.9, 3.8, 6.4, 2. ],\n",
              "       [4.9, 2.5, 4.5, 1.7]])"
            ]
          },
          "metadata": {},
          "execution_count": 217
        }
      ]
    },
    {
      "cell_type": "code",
      "metadata": {
        "id": "RK9prDOeQFUl",
        "colab": {
          "base_uri": "https://localhost:8080/"
        },
        "outputId": "e216201c-50e7-4e3f-ada6-db9aae7f04ed"
      },
      "source": [
        "X_train.shape"
      ],
      "execution_count": 218,
      "outputs": [
        {
          "output_type": "execute_result",
          "data": {
            "text/plain": [
              "(135, 4)"
            ]
          },
          "metadata": {},
          "execution_count": 218
        }
      ]
    },
    {
      "cell_type": "code",
      "metadata": {
        "colab": {
          "base_uri": "https://localhost:8080/"
        },
        "id": "a07rprP-QgXZ",
        "outputId": "7a4a9a71-9e43-4338-f2c4-ea4b8235ebd6"
      },
      "source": [
        "X_test.shape"
      ],
      "execution_count": 219,
      "outputs": [
        {
          "output_type": "execute_result",
          "data": {
            "text/plain": [
              "(15, 4)"
            ]
          },
          "metadata": {},
          "execution_count": 219
        }
      ]
    },
    {
      "cell_type": "code",
      "metadata": {
        "colab": {
          "base_uri": "https://localhost:8080/"
        },
        "id": "c3Wct90IQ9zQ",
        "outputId": "654d22b4-adaa-45af-9a9c-754322e42632"
      },
      "source": [
        "y_train.shape"
      ],
      "execution_count": 220,
      "outputs": [
        {
          "output_type": "execute_result",
          "data": {
            "text/plain": [
              "(135,)"
            ]
          },
          "metadata": {},
          "execution_count": 220
        }
      ]
    },
    {
      "cell_type": "code",
      "metadata": {
        "id": "iSvIMxboRUrI",
        "colab": {
          "base_uri": "https://localhost:8080/"
        },
        "outputId": "9047a9f1-428f-4a31-b622-66279b101ed4"
      },
      "source": [
        "y_test.shape"
      ],
      "execution_count": 221,
      "outputs": [
        {
          "output_type": "execute_result",
          "data": {
            "text/plain": [
              "(15,)"
            ]
          },
          "metadata": {},
          "execution_count": 221
        }
      ]
    },
    {
      "cell_type": "markdown",
      "metadata": {
        "id": "j1uS42r0n4uP"
      },
      "source": [
        "**Training Model**"
      ]
    },
    {
      "cell_type": "markdown",
      "metadata": {
        "id": "3MWSuq6Cn9Jw"
      },
      "source": [
        "**KNN Algorithm**"
      ]
    },
    {
      "cell_type": "code",
      "metadata": {
        "colab": {
          "base_uri": "https://localhost:8080/"
        },
        "id": "4prCcC06gRtU",
        "outputId": "f8075a07-ad38-4656-b276-29cb6fe8adc8"
      },
      "source": [
        "sc = StandardScaler().fit(X_train)\n",
        "X_train_std = sc.transform(X_train)\n",
        "X_test_std = sc.transform(X_train)\n",
        "X_train_std"
      ],
      "execution_count": 222,
      "outputs": [
        {
          "output_type": "execute_result",
          "data": {
            "text/plain": [
              "array([[-1.0710083 ,  1.04087637, -1.44489934, -1.21581928],\n",
              "       [ 0.53003051, -1.30109546,  0.62349854,  0.36748235],\n",
              "       [ 2.25422615, -0.13010955,  1.31296449,  1.42301677],\n",
              "       [-0.20891048, -1.30109546,  0.68095403,  1.02719137],\n",
              "       [-1.80994929,  0.33828482, -1.44489934, -1.34776108],\n",
              "       [ 0.40687368, -0.59850391,  0.56604304,  0.76330776],\n",
              "       [ 1.14581467, -0.13010955,  0.96823151,  1.15913317],\n",
              "       [ 1.2689715 ,  0.10408764,  0.73840953,  1.42301677],\n",
              "       [ 1.14581467, -0.59850391,  0.56604304,  0.23554055],\n",
              "       [-0.57838097,  1.9776651 , -1.21507735, -1.08387747],\n",
              "       [ 1.638442  ,  1.27507355,  1.31296449,  1.68690038],\n",
              "       [ 0.28371685, -1.06689828,  1.02568701,  0.23554055],\n",
              "       [-0.08575365, -0.8327011 ,  0.16385456, -0.29222666],\n",
              "       [-1.19416513, -1.53529265, -0.29578941, -0.29222666],\n",
              "       [ 1.02265784,  0.10408764,  0.50858754,  0.36748235],\n",
              "       [-0.08575365,  2.21186229, -1.50235483, -1.34776108],\n",
              "       [-1.31732196,  0.80667919, -1.10016636, -1.34776108],\n",
              "       [ 1.2689715 ,  0.10408764,  0.91077602,  1.15913317],\n",
              "       [ 0.89950101, -0.36430673,  0.45113205,  0.10359875],\n",
              "       [-1.80994929, -0.36430673, -1.38744384, -1.34776108],\n",
              "       [-0.82469463,  1.04087637, -1.32998834, -1.34776108],\n",
              "       [ 1.02265784, -0.13010955,  0.68095403,  0.63136596],\n",
              "       [-1.68679246, -1.76948983, -1.44489934, -1.21581928],\n",
              "       [ 0.65318734, -0.8327011 ,  0.85332052,  0.89524956],\n",
              "       [ 0.40687368, -2.00368701,  0.39367655,  0.36748235],\n",
              "       [ 0.65318734, -0.59850391,  1.02568701,  1.15913317],\n",
              "       [-0.08575365, -0.8327011 ,  0.04894357, -0.02834305],\n",
              "       [-1.56363562,  1.27507355, -1.61726583, -1.34776108],\n",
              "       [-0.94785147,  1.04087637, -1.38744384, -1.21581928],\n",
              "       [ 0.28371685, -0.13010955,  0.62349854,  0.76330776],\n",
              "       [ 0.65318734,  0.33828482,  0.39367655,  0.36748235],\n",
              "       [-0.94785147,  0.572482  , -1.21507735, -0.95193567],\n",
              "       [ 0.16056002, -0.8327011 ,  0.73840953,  0.49942416],\n",
              "       [-0.08575365, -0.8327011 ,  0.73840953,  0.89524956],\n",
              "       [-0.57838097, -0.13010955,  0.39367655,  0.36748235],\n",
              "       [-1.31732196, -0.13010955, -1.38744384, -1.21581928],\n",
              "       [-1.0710083 ,  0.33828482, -1.50235483, -1.34776108],\n",
              "       [-0.08575365, -0.8327011 ,  0.73840953,  0.89524956],\n",
              "       [ 1.39212833,  0.33828482,  0.50858754,  0.23554055],\n",
              "       [ 0.28371685, -0.59850391,  0.50858754, -0.02834305],\n",
              "       [-1.19416513,  0.10408764, -1.32998834, -1.47970288],\n",
              "       [ 0.53003051,  0.80667919,  1.02568701,  1.55495858],\n",
              "       [-0.94785147,  1.74346792, -1.32998834, -1.21581928],\n",
              "       [ 0.77634418, -0.13010955,  0.96823151,  0.76330776],\n",
              "       [-0.20891048, -0.36430673,  0.22131006,  0.10359875],\n",
              "       [-1.0710083 ,  1.27507355, -1.38744384, -1.34776108],\n",
              "       [-1.31732196, -0.13010955, -1.38744384, -1.47970288],\n",
              "       [ 1.14581467,  0.33828482,  1.1980535 ,  1.42301677],\n",
              "       [ 0.03740319,  0.33828482,  0.56604304,  0.76330776],\n",
              "       [-0.57838097,  1.50927074, -1.32998834, -1.34776108],\n",
              "       [-1.31732196,  0.80667919, -1.27253285, -1.34776108],\n",
              "       [-0.94785147, -1.30109546, -0.4681559 , -0.16028486],\n",
              "       [ 0.65318734,  0.10408764,  0.96823151,  0.76330776],\n",
              "       [ 0.53003051,  0.572482  ,  1.255509  ,  1.68690038],\n",
              "       [-1.19416513,  0.10408764, -1.32998834, -1.47970288],\n",
              "       [ 1.02265784,  0.572482  ,  1.08314251,  1.15913317],\n",
              "       [-0.20891048, -0.13010955,  0.22131006, -0.02834305],\n",
              "       [-1.44047879,  0.33828482, -1.27253285, -1.34776108],\n",
              "       [-0.94785147,  0.80667919, -1.32998834, -1.34776108],\n",
              "       [ 1.88475566, -0.59850391,  1.31296449,  0.89524956],\n",
              "       [ 2.25422615,  1.74346792,  1.65769747,  1.29107497],\n",
              "       [-0.08575365, -0.59850391,  0.73840953,  1.55495858],\n",
              "       [-0.20891048, -0.59850391,  0.16385456,  0.10359875],\n",
              "       [-0.82469463, -0.8327011 ,  0.04894357,  0.23554055],\n",
              "       [ 0.53003051, -1.76948983,  0.33622105,  0.10359875],\n",
              "       [-0.94785147,  1.74346792, -1.10016636, -1.08387747],\n",
              "       [-0.45522414,  1.04087637, -1.44489934, -1.34776108],\n",
              "       [ 0.65318734,  0.33828482,  0.85332052,  1.42301677],\n",
              "       [ 1.02265784,  0.572482  ,  1.08314251,  1.68690038],\n",
              "       [ 1.2689715 ,  0.10408764,  0.62349854,  0.36748235],\n",
              "       [ 1.51528516, -0.13010955,  1.1980535 ,  1.15913317],\n",
              "       [ 0.03740319, -0.13010955,  0.22131006,  0.36748235],\n",
              "       [ 2.25422615, -0.59850391,  1.65769747,  1.02719137],\n",
              "       [-1.31732196,  0.10408764, -1.27253285, -1.34776108],\n",
              "       [ 0.53003051, -0.59850391,  0.73840953,  0.36748235],\n",
              "       [-1.93310612, -0.13010955, -1.55981033, -1.47970288],\n",
              "       [-0.20891048, -0.59850391,  0.39367655,  0.10359875],\n",
              "       [ 0.89950101, -0.13010955,  0.33622105,  0.23554055],\n",
              "       [ 0.65318734, -0.59850391,  1.02568701,  1.29107497],\n",
              "       [ 0.40687368,  0.80667919,  0.91077602,  1.42301677],\n",
              "       [-0.82469463,  2.44605947, -1.32998834, -1.47970288],\n",
              "       [-0.45522414, -1.53529265, -0.00851193, -0.16028486],\n",
              "       [-0.57838097,  1.9776651 , -1.44489934, -1.08387747],\n",
              "       [ 0.28371685, -0.13010955,  0.45113205,  0.23554055],\n",
              "       [ 0.65318734, -0.36430673,  0.27876556,  0.10359875],\n",
              "       [ 0.16056002,  0.80667919,  0.39367655,  0.49942416],\n",
              "       [-1.19416513, -0.13010955, -1.38744384, -1.34776108],\n",
              "       [ 1.638442  ,  0.33828482,  1.255509  ,  0.76330776],\n",
              "       [-0.94785147,  1.74346792, -1.27253285, -1.34776108],\n",
              "       [ 1.02265784, -1.30109546,  1.140598  ,  0.76330776],\n",
              "       [ 0.28371685, -0.59850391,  0.10639907,  0.10359875],\n",
              "       [ 1.02265784, -0.13010955,  0.79586502,  1.42301677],\n",
              "       [ 0.53003051,  0.572482  ,  0.50858754,  0.49942416],\n",
              "       [-0.33206731, -0.59850391,  0.62349854,  1.02719137],\n",
              "       [ 0.28371685, -0.36430673,  0.50858754,  0.23554055],\n",
              "       [-0.20891048,  1.74346792, -1.21507735, -1.21581928],\n",
              "       [ 2.13106932, -0.13010955,  1.60024197,  1.15913317],\n",
              "       [-0.33206731, -0.36430673, -0.12342292,  0.10359875],\n",
              "       [ 0.77634418, -0.13010955,  0.79586502,  1.02719137],\n",
              "       [ 0.77634418, -0.59850391,  0.45113205,  0.36748235],\n",
              "       [-0.82469463,  0.80667919, -1.38744384, -1.34776108],\n",
              "       [ 0.16056002, -0.36430673,  0.39367655,  0.36748235],\n",
              "       [ 0.53003051, -1.30109546,  0.68095403,  0.89524956],\n",
              "       [-1.0710083 ,  0.572482  , -1.38744384, -1.34776108],\n",
              "       [-0.33206731, -0.8327011 ,  0.22131006,  0.10359875],\n",
              "       [-0.57838097,  0.80667919, -1.21507735, -1.34776108],\n",
              "       [-1.19416513,  0.10408764, -1.32998834, -1.47970288],\n",
              "       [-0.7015378 ,  1.50927074, -1.32998834, -1.34776108],\n",
              "       [-0.20891048, -1.06689828, -0.18087841, -0.29222666],\n",
              "       [ 0.53003051, -0.8327011 ,  0.62349854,  0.76330776],\n",
              "       [-0.45522414,  2.68025665, -1.38744384, -1.34776108],\n",
              "       [-1.0710083 ,  1.04087637, -1.27253285, -0.81999387],\n",
              "       [ 1.2689715 ,  0.33828482,  1.08314251,  1.42301677],\n",
              "       [-1.0710083 ,  0.80667919, -1.32998834, -1.34776108],\n",
              "       [ 0.16056002, -2.00368701,  0.10639907, -0.29222666],\n",
              "       [ 0.03740319, -0.13010955,  0.73840953,  0.76330776],\n",
              "       [ 0.40687368, -0.36430673,  0.27876556,  0.10359875],\n",
              "       [ 0.77634418,  0.33828482,  0.73840953,  1.02719137],\n",
              "       [ 0.77634418, -0.13010955,  1.140598  ,  1.29107497],\n",
              "       [-0.33206731, -1.30109546,  0.04894357, -0.16028486],\n",
              "       [-0.45522414, -1.06689828,  0.33622105, -0.02834305],\n",
              "       [ 1.638442  , -0.13010955,  1.140598  ,  0.49942416],\n",
              "       [-1.0710083 , -2.47208138, -0.18087841, -0.29222666],\n",
              "       [-1.44047879,  0.33828482, -1.44489934, -1.34776108],\n",
              "       [-0.33206731, -0.13010955,  0.39367655,  0.36748235],\n",
              "       [-0.45522414, -1.53529265, -0.06596742, -0.29222666],\n",
              "       [-1.0710083 ,  0.80667919, -1.27253285, -1.08387747],\n",
              "       [-1.0710083 , -1.76948983, -0.29578941, -0.29222666],\n",
              "       [ 0.16056002, -2.00368701,  0.68095403,  0.36748235],\n",
              "       [ 0.16056002, -0.13010955,  0.56604304,  0.76330776],\n",
              "       [ 1.76159883, -0.36430673,  1.42787549,  0.76330776],\n",
              "       [-0.94785147,  1.50927074, -1.32998834, -1.08387747],\n",
              "       [-0.94785147,  1.04087637, -1.38744384, -1.34776108],\n",
              "       [ 2.50053982,  1.74346792,  1.48533098,  1.02719137],\n",
              "       [-1.19416513, -1.30109546,  0.39367655,  0.63136596]])"
            ]
          },
          "metadata": {},
          "execution_count": 222
        }
      ]
    },
    {
      "cell_type": "code",
      "metadata": {
        "colab": {
          "base_uri": "https://localhost:8080/"
        },
        "id": "TD4KKrZmVp8m",
        "outputId": "01ee3431-228d-4b2a-dca0-4458c5373f8c"
      },
      "source": [
        "y_train"
      ],
      "execution_count": 223,
      "outputs": [
        {
          "output_type": "execute_result",
          "data": {
            "text/plain": [
              "array([0, 1, 2, 2, 0, 2, 2, 2, 1, 0, 2, 2, 1, 1, 1, 0, 0, 2, 1, 0, 0, 1,\n",
              "       0, 2, 1, 2, 1, 0, 0, 2, 1, 0, 1, 2, 1, 0, 0, 2, 1, 1, 0, 2, 0, 2,\n",
              "       1, 0, 0, 2, 1, 0, 0, 1, 2, 2, 0, 2, 1, 0, 0, 2, 2, 2, 1, 1, 1, 0,\n",
              "       0, 2, 2, 1, 2, 1, 2, 0, 2, 0, 1, 1, 2, 2, 0, 1, 0, 1, 1, 1, 0, 2,\n",
              "       0, 2, 1, 2, 1, 2, 1, 0, 2, 1, 2, 1, 0, 1, 2, 0, 1, 0, 0, 0, 1, 2,\n",
              "       0, 0, 2, 0, 1, 2, 1, 2, 2, 1, 1, 2, 1, 0, 1, 1, 0, 1, 2, 2, 2, 0,\n",
              "       0, 2, 2])"
            ]
          },
          "metadata": {},
          "execution_count": 223
        }
      ]
    },
    {
      "cell_type": "code",
      "metadata": {
        "colab": {
          "base_uri": "https://localhost:8080/"
        },
        "id": "SB1y0hKuV92o",
        "outputId": "d0c95554-f2b4-4606-baa6-f55b42b2f753"
      },
      "source": [
        "knn = KNeighborsClassifier(n_neighbors=5)\n",
        "knn.fit(X_train_std, y_train)"
      ],
      "execution_count": 224,
      "outputs": [
        {
          "output_type": "execute_result",
          "data": {
            "text/plain": [
              "KNeighborsClassifier()"
            ]
          },
          "metadata": {},
          "execution_count": 224
        }
      ]
    },
    {
      "cell_type": "markdown",
      "metadata": {
        "id": "13kIqEyToDkT"
      },
      "source": [
        " **3. Prediction**"
      ]
    },
    {
      "cell_type": "code",
      "metadata": {
        "colab": {
          "base_uri": "https://localhost:8080/"
        },
        "id": "aLt83CERjl7X",
        "outputId": "08299ba3-c61a-4f59-f6cb-b0444178d349"
      },
      "source": [
        "pred = knn.predict(X_test_std)\n",
        "acs = accuracy_score(y_train, pred)*100\n",
        "acs"
      ],
      "execution_count": 227,
      "outputs": [
        {
          "output_type": "execute_result",
          "data": {
            "text/plain": [
              "95.55555555555556"
            ]
          },
          "metadata": {},
          "execution_count": 227
        }
      ]
    },
    {
      "cell_type": "code",
      "metadata": {
        "id": "4_IAwz0Bjoxq"
      },
      "source": [
        ""
      ],
      "execution_count": null,
      "outputs": []
    }
  ]
}